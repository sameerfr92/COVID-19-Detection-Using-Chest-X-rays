{
 "cells": [
  {
   "cell_type": "code",
   "execution_count": 58,
   "metadata": {},
   "outputs": [],
   "source": [
    "import numpy as np\n",
    "import keras\n",
    "from keras.models import Sequential\n",
    "from keras.preprocessing.image import img_to_array, load_img\n",
    "from keras.layers import Activation\n",
    "from keras.layers.core import Dense, Flatten\n",
    "from keras.optimizers import Adam\n",
    "from keras.metrics import categorical_crossentropy\n",
    "from keras.preprocessing.image import ImageDataGenerator\n",
    "from keras.layers.normalization import BatchNormalization\n",
    "from keras.layers.convolutional import Conv2D\n",
    "from keras.utils.layer_utils import count_params\n",
    "from sklearn.metrics import confusion_matrix\n",
    "import itertools\n",
    "import matplotlib.pyplot as plt\n",
    "import warnings\n",
    "warnings.simplefilter(action='ignore', category=FutureWarning)\n",
    "#%matplotlib inline"
   ]
  },
  {
   "cell_type": "code",
   "execution_count": 59,
   "metadata": {},
   "outputs": [
    {
     "name": "stdout",
     "output_type": "stream",
     "text": [
      "C:\\Users\\samfr\\PycharmProjects\\upg\\datasets\n"
     ]
    }
   ],
   "source": [
    "import os\n",
    "os. chdir(\"C:/Users/samfr/PycharmProjects/upg/datasets\")\n",
    "print(os.getcwd())"
   ]
  },
  {
   "cell_type": "code",
   "execution_count": 60,
   "metadata": {},
   "outputs": [],
   "source": [
    "train_path = '/Users/samfr/PycharmProjects/upg/datasets/train'\n",
    "valid_path = '/Users/samfr/PycharmProjects/upg/datasets/valid'\n",
    "test_path = '/Users/samfr/PycharmProjects/upg/datasets/test'"
   ]
  },
  {
   "cell_type": "code",
   "execution_count": 62,
   "metadata": {},
   "outputs": [
    {
     "name": "stdout",
     "output_type": "stream",
     "text": [
      "Found 2721 images belonging to 3 classes.\n"
     ]
    }
   ],
   "source": [
    "train_batches = ImageDataGenerator(rescale=None,\n",
    "        rotation_range=20,\n",
    "        shear_range=0.2,\n",
    "        zoom_range=0.2,\n",
    "        horizontal_flip=True).flow_from_directory(directory=train_path, \n",
    "                            target_size=(224,224), \n",
    "                            classes=['COVID-19','NORMAL','Viral_Pneumonia'], \n",
    "                            batch_size=10)"
   ]
  },
  {
   "cell_type": "code",
   "execution_count": 63,
   "metadata": {},
   "outputs": [
    {
     "name": "stdout",
     "output_type": "stream",
     "text": [
      "Found 583 images belonging to 3 classes.\n"
     ]
    }
   ],
   "source": [
    "valid_batches = ImageDataGenerator(rescale=None,\n",
    "        rotation_range=20,\n",
    "        shear_range=0.2,\n",
    "        zoom_range=0.2,\n",
    "        horizontal_flip=True).flow_from_directory(directory=valid_path, \n",
    "                            target_size=(224,224), \n",
    "                            classes=['COVID-19','NORMAL','Viral_Pneumonia'], \n",
    "                            batch_size=10)"
   ]
  },
  {
   "cell_type": "code",
   "execution_count": 64,
   "metadata": {},
   "outputs": [
    {
     "name": "stdout",
     "output_type": "stream",
     "text": [
      "Found 582 images belonging to 3 classes.\n"
     ]
    }
   ],
   "source": [
    "test_batches = ImageDataGenerator().flow_from_directory(directory=test_path, target_size=(224,224), classes=['COVID-19','NORMAL','Viral_Pneumonia'], batch_size=10)"
   ]
  },
  {
   "cell_type": "code",
   "execution_count": 7,
   "metadata": {},
   "outputs": [],
   "source": [
    "# Let's import the inception model\n",
    "\n",
    "from tensorflow.keras.applications.inception_v3 import InceptionV3"
   ]
  },
  {
   "cell_type": "code",
   "execution_count": 8,
   "metadata": {},
   "outputs": [],
   "source": [
    "pre_trained_model = InceptionV3(input_shape = (224,224,3),\n",
    "                               include_top = False,\n",
    "                               weights = \"imagenet\")"
   ]
  },
  {
   "cell_type": "code",
   "execution_count": 9,
   "metadata": {},
   "outputs": [],
   "source": [
    "for layer in pre_trained_model.layers:\n",
    "    layer.trainable = False"
   ]
  },
  {
   "cell_type": "code",
   "execution_count": 10,
   "metadata": {},
   "outputs": [],
   "source": [
    "from tensorflow.keras.optimizers import RMSprop\n",
    "from tensorflow.keras import layers, Model\n",
    "\n",
    "# Flatten the output layer to 1 dimension\n",
    "x = layers.Flatten()(pre_trained_model.output)\n",
    "# Add a fully connected with 1,024 hidden units and ReLU activation\n",
    "x = layers.Dense(1024,activation = \"relu\")(x)\n",
    "# Add a dropout rate of 0.2\n",
    "x = layers.Dropout(0.2)(x)\n",
    "# Add a final sigmoid layer for classification\n",
    "x = layers.Dense(3, activation = \"softmax\")(x)\n",
    "\n",
    "model = Model(pre_trained_model.input, x)"
   ]
  },
  {
   "cell_type": "code",
   "execution_count": 11,
   "metadata": {},
   "outputs": [],
   "source": [
    "model.compile(optimizer=Adam(learning_rate=0.0001), loss='categorical_crossentropy', metrics=['accuracy'])"
   ]
  },
  {
   "cell_type": "code",
   "execution_count": 12,
   "metadata": {},
   "outputs": [],
   "source": [
    "from keras.models import Sequential\n",
    "from keras.layers import Dense\n",
    "from keras.callbacks import ModelCheckpoint\n",
    "\n",
    "filepath = \"three_classification_problem_model_solved_InceptionV3.h5\"\n",
    "\n",
    "checkpoint = ModelCheckpoint(filepath, monitor='val_accuracy', verbose=2, save_best_only=True, mode='max')\n",
    "callbacks_list = [checkpoint]"
   ]
  },
  {
   "cell_type": "code",
   "execution_count": 14,
   "metadata": {},
   "outputs": [
    {
     "name": "stdout",
     "output_type": "stream",
     "text": [
      "Epoch 1/50\n",
      "4/4 - 10s - loss: 252.1150 - accuracy: 0.3250 - val_loss: 20.4232 - val_accuracy: 0.8250\n",
      "\n",
      "Epoch 00001: val_accuracy improved from -inf to 0.82500, saving model to three_classification_problem_model_solved_InceptionV3.h5\n",
      "Epoch 2/50\n",
      "4/4 - 12s - loss: 159.2352 - accuracy: 0.5484 - val_loss: 134.2302 - val_accuracy: 0.4500\n",
      "\n",
      "Epoch 00002: val_accuracy did not improve from 0.82500\n",
      "Epoch 3/50\n",
      "4/4 - 11s - loss: 80.5613 - accuracy: 0.6500 - val_loss: 41.5079 - val_accuracy: 0.8750\n",
      "\n",
      "Epoch 00003: val_accuracy improved from 0.82500 to 0.87500, saving model to three_classification_problem_model_solved_InceptionV3.h5\n",
      "Epoch 4/50\n",
      "4/4 - 11s - loss: 44.0838 - accuracy: 0.7000 - val_loss: 73.5197 - val_accuracy: 0.7000\n",
      "\n",
      "Epoch 00004: val_accuracy did not improve from 0.87500\n",
      "Epoch 5/50\n",
      "4/4 - 11s - loss: 32.2152 - accuracy: 0.7000 - val_loss: 43.3887 - val_accuracy: 0.8500\n",
      "\n",
      "Epoch 00005: val_accuracy did not improve from 0.87500\n",
      "Epoch 6/50\n",
      "4/4 - 13s - loss: 38.0169 - accuracy: 0.7250 - val_loss: 31.2997 - val_accuracy: 0.8250\n",
      "\n",
      "Epoch 00006: val_accuracy did not improve from 0.87500\n",
      "Epoch 7/50\n",
      "4/4 - 12s - loss: 40.1958 - accuracy: 0.7750 - val_loss: 17.7547 - val_accuracy: 0.7500\n",
      "\n",
      "Epoch 00007: val_accuracy did not improve from 0.87500\n",
      "Epoch 8/50\n",
      "4/4 - 11s - loss: 27.6288 - accuracy: 0.8250 - val_loss: 29.1862 - val_accuracy: 0.8000\n",
      "\n",
      "Epoch 00008: val_accuracy did not improve from 0.87500\n",
      "Epoch 9/50\n",
      "4/4 - 11s - loss: 19.9374 - accuracy: 0.8000 - val_loss: 42.7778 - val_accuracy: 0.6500\n",
      "\n",
      "Epoch 00009: val_accuracy did not improve from 0.87500\n",
      "Epoch 10/50\n",
      "4/4 - 13s - loss: 26.2222 - accuracy: 0.8750 - val_loss: 16.7319 - val_accuracy: 0.8250\n",
      "\n",
      "Epoch 00010: val_accuracy did not improve from 0.87500\n",
      "Epoch 11/50\n",
      "4/4 - 10s - loss: 23.8190 - accuracy: 0.7000 - val_loss: 13.9049 - val_accuracy: 0.8250\n",
      "\n",
      "Epoch 00011: val_accuracy did not improve from 0.87500\n",
      "Epoch 12/50\n",
      "4/4 - 13s - loss: 12.7566 - accuracy: 0.7500 - val_loss: 24.6055 - val_accuracy: 0.7250\n",
      "\n",
      "Epoch 00012: val_accuracy did not improve from 0.87500\n",
      "Epoch 13/50\n",
      "4/4 - 14s - loss: 16.2815 - accuracy: 0.7250 - val_loss: 28.9099 - val_accuracy: 0.7750\n",
      "\n",
      "Epoch 00013: val_accuracy did not improve from 0.87500\n",
      "Epoch 14/50\n",
      "4/4 - 12s - loss: 13.1408 - accuracy: 0.8500 - val_loss: 36.0193 - val_accuracy: 0.7500\n",
      "\n",
      "Epoch 00014: val_accuracy did not improve from 0.87500\n",
      "Epoch 15/50\n",
      "4/4 - 13s - loss: 10.6066 - accuracy: 0.8750 - val_loss: 22.1664 - val_accuracy: 0.8000\n",
      "\n",
      "Epoch 00015: val_accuracy did not improve from 0.87500\n",
      "Epoch 16/50\n",
      "4/4 - 12s - loss: 16.0645 - accuracy: 0.7750 - val_loss: 7.2837 - val_accuracy: 0.8750\n",
      "\n",
      "Epoch 00016: val_accuracy did not improve from 0.87500\n",
      "Epoch 17/50\n",
      "4/4 - 12s - loss: 7.7489 - accuracy: 0.9500 - val_loss: 1.3587 - val_accuracy: 0.9000\n",
      "\n",
      "Epoch 00017: val_accuracy improved from 0.87500 to 0.90000, saving model to three_classification_problem_model_solved_InceptionV3.h5\n",
      "Epoch 18/50\n",
      "4/4 - 11s - loss: 22.3846 - accuracy: 0.7500 - val_loss: 5.1627 - val_accuracy: 0.8750\n",
      "\n",
      "Epoch 00018: val_accuracy did not improve from 0.90000\n",
      "Epoch 19/50\n",
      "4/4 - 13s - loss: 13.6551 - accuracy: 0.8500 - val_loss: 16.9950 - val_accuracy: 0.7750\n",
      "\n",
      "Epoch 00019: val_accuracy did not improve from 0.90000\n",
      "Epoch 20/50\n",
      "4/4 - 11s - loss: 17.6580 - accuracy: 0.7750 - val_loss: 4.6921 - val_accuracy: 0.9500\n",
      "\n",
      "Epoch 00020: val_accuracy improved from 0.90000 to 0.95000, saving model to three_classification_problem_model_solved_InceptionV3.h5\n",
      "Epoch 21/50\n",
      "4/4 - 11s - loss: 27.6612 - accuracy: 0.7750 - val_loss: 10.6253 - val_accuracy: 0.7750\n",
      "\n",
      "Epoch 00021: val_accuracy did not improve from 0.95000\n",
      "Epoch 22/50\n",
      "4/4 - 11s - loss: 17.4322 - accuracy: 0.7500 - val_loss: 13.0205 - val_accuracy: 0.9250\n",
      "\n",
      "Epoch 00022: val_accuracy did not improve from 0.95000\n",
      "Epoch 23/50\n",
      "4/4 - 10s - loss: 4.2494 - accuracy: 0.8500 - val_loss: 16.1621 - val_accuracy: 0.8250\n",
      "\n",
      "Epoch 00023: val_accuracy did not improve from 0.95000\n",
      "Epoch 24/50\n",
      "4/4 - 11s - loss: 5.6351 - accuracy: 0.8500 - val_loss: 10.8221 - val_accuracy: 0.8750\n",
      "\n",
      "Epoch 00024: val_accuracy did not improve from 0.95000\n",
      "Epoch 25/50\n",
      "4/4 - 11s - loss: 19.7680 - accuracy: 0.8000 - val_loss: 6.7105 - val_accuracy: 0.8500\n",
      "\n",
      "Epoch 00025: val_accuracy did not improve from 0.95000\n",
      "Epoch 26/50\n",
      "4/4 - 11s - loss: 2.6685 - accuracy: 0.9250 - val_loss: 6.3668 - val_accuracy: 0.9000\n",
      "\n",
      "Epoch 00026: val_accuracy did not improve from 0.95000\n",
      "Epoch 27/50\n",
      "4/4 - 12s - loss: 11.4663 - accuracy: 0.7250 - val_loss: 15.0881 - val_accuracy: 0.7750\n",
      "\n",
      "Epoch 00027: val_accuracy did not improve from 0.95000\n",
      "Epoch 28/50\n",
      "4/4 - 11s - loss: 12.0979 - accuracy: 0.8000 - val_loss: 14.0480 - val_accuracy: 0.7000\n",
      "\n",
      "Epoch 00028: val_accuracy did not improve from 0.95000\n",
      "Epoch 29/50\n",
      "4/4 - 11s - loss: 11.0391 - accuracy: 0.7750 - val_loss: 11.4380 - val_accuracy: 0.7500\n",
      "\n",
      "Epoch 00029: val_accuracy did not improve from 0.95000\n",
      "Epoch 30/50\n",
      "4/4 - 11s - loss: 15.4773 - accuracy: 0.7250 - val_loss: 19.6992 - val_accuracy: 0.7750\n",
      "\n",
      "Epoch 00030: val_accuracy did not improve from 0.95000\n",
      "Epoch 31/50\n",
      "4/4 - 11s - loss: 5.9516 - accuracy: 0.8000 - val_loss: 5.5580 - val_accuracy: 0.9000\n",
      "\n",
      "Epoch 00031: val_accuracy did not improve from 0.95000\n",
      "Epoch 32/50\n",
      "4/4 - 10s - loss: 13.9482 - accuracy: 0.9250 - val_loss: 4.6159 - val_accuracy: 0.9000\n",
      "\n",
      "Epoch 00032: val_accuracy did not improve from 0.95000\n",
      "Epoch 33/50\n",
      "4/4 - 11s - loss: 12.6691 - accuracy: 0.8250 - val_loss: 23.4084 - val_accuracy: 0.8000\n",
      "\n",
      "Epoch 00033: val_accuracy did not improve from 0.95000\n",
      "Epoch 34/50\n",
      "4/4 - 12s - loss: 18.7899 - accuracy: 0.7000 - val_loss: 20.4396 - val_accuracy: 0.8000\n",
      "\n",
      "Epoch 00034: val_accuracy did not improve from 0.95000\n",
      "Epoch 35/50\n",
      "4/4 - 12s - loss: 7.8938 - accuracy: 0.8500 - val_loss: 9.7146 - val_accuracy: 0.7500\n",
      "\n",
      "Epoch 00035: val_accuracy did not improve from 0.95000\n",
      "Epoch 36/50\n",
      "4/4 - 10s - loss: 9.3598 - accuracy: 0.8000 - val_loss: 9.6457 - val_accuracy: 0.9000\n",
      "\n",
      "Epoch 00036: val_accuracy did not improve from 0.95000\n",
      "Epoch 37/50\n",
      "4/4 - 10s - loss: 6.3385 - accuracy: 0.9250 - val_loss: 9.8087 - val_accuracy: 0.8500\n",
      "\n",
      "Epoch 00037: val_accuracy did not improve from 0.95000\n",
      "Epoch 38/50\n",
      "4/4 - 11s - loss: 19.7259 - accuracy: 0.7500 - val_loss: 3.8532 - val_accuracy: 0.9000\n",
      "\n",
      "Epoch 00038: val_accuracy did not improve from 0.95000\n",
      "Epoch 39/50\n",
      "4/4 - 13s - loss: 5.7049 - accuracy: 0.8750 - val_loss: 21.0498 - val_accuracy: 0.7250\n",
      "\n",
      "Epoch 00039: val_accuracy did not improve from 0.95000\n",
      "Epoch 40/50\n",
      "4/4 - 16s - loss: 10.6753 - accuracy: 0.8250 - val_loss: 4.3575 - val_accuracy: 0.8500\n",
      "\n",
      "Epoch 00040: val_accuracy did not improve from 0.95000\n",
      "Epoch 41/50\n",
      "4/4 - 11s - loss: 9.8272 - accuracy: 0.8250 - val_loss: 8.6619 - val_accuracy: 0.8250\n",
      "\n",
      "Epoch 00041: val_accuracy did not improve from 0.95000\n",
      "Epoch 42/50\n",
      "4/4 - 11s - loss: 18.7106 - accuracy: 0.7750 - val_loss: 12.3671 - val_accuracy: 0.8250\n",
      "\n",
      "Epoch 00042: val_accuracy did not improve from 0.95000\n",
      "Epoch 43/50\n",
      "4/4 - 10s - loss: 12.5575 - accuracy: 0.7750 - val_loss: 31.0799 - val_accuracy: 0.7500\n",
      "\n",
      "Epoch 00043: val_accuracy did not improve from 0.95000\n",
      "Epoch 44/50\n",
      "4/4 - 11s - loss: 13.5038 - accuracy: 0.7750 - val_loss: 14.6753 - val_accuracy: 0.7750\n",
      "\n",
      "Epoch 00044: val_accuracy did not improve from 0.95000\n",
      "Epoch 45/50\n",
      "4/4 - 11s - loss: 21.9048 - accuracy: 0.7750 - val_loss: 26.2599 - val_accuracy: 0.5750\n",
      "\n",
      "Epoch 00045: val_accuracy did not improve from 0.95000\n",
      "Epoch 46/50\n",
      "4/4 - 13s - loss: 22.8464 - accuracy: 0.8250 - val_loss: 13.5010 - val_accuracy: 0.7500\n",
      "\n",
      "Epoch 00046: val_accuracy did not improve from 0.95000\n",
      "Epoch 47/50\n",
      "4/4 - 11s - loss: 14.2231 - accuracy: 0.7750 - val_loss: 32.0203 - val_accuracy: 0.6500\n",
      "\n",
      "Epoch 00047: val_accuracy did not improve from 0.95000\n",
      "Epoch 48/50\n",
      "4/4 - 11s - loss: 43.3216 - accuracy: 0.6750 - val_loss: 17.0079 - val_accuracy: 0.7500\n",
      "\n",
      "Epoch 00048: val_accuracy did not improve from 0.95000\n",
      "Epoch 49/50\n",
      "4/4 - 11s - loss: 3.8077 - accuracy: 0.8750 - val_loss: 13.8654 - val_accuracy: 0.7250\n",
      "\n",
      "Epoch 00049: val_accuracy did not improve from 0.95000\n",
      "Epoch 50/50\n",
      "4/4 - 10s - loss: 7.2856 - accuracy: 0.7250 - val_loss: 11.0636 - val_accuracy: 0.8750\n",
      "\n",
      "Epoch 00050: val_accuracy did not improve from 0.95000\n"
     ]
    }
   ],
   "source": [
    "results = model.fit_generator(generator=train_batches, steps_per_epoch=4,\n",
    "                    validation_data=valid_batches, validation_steps=4, epochs=50, verbose=2, callbacks = callbacks_list)\n",
    "\n",
    "#model.save('three_classification_problem_model_solved_InceptionV3.h5')"
   ]
  },
  {
   "cell_type": "markdown",
   "metadata": {},
   "source": [
    "### Let's plot the performance of Deep Learning model"
   ]
  },
  {
   "cell_type": "code",
   "execution_count": 27,
   "metadata": {},
   "outputs": [
    {
     "data": {
      "image/png": "[encoded data removed]",
      "text/plain": [
       "<Figure size 1080x360 with 2 Axes>"
      ]
     },
     "metadata": {
      "needs_background": "light"
     },
     "output_type": "display_data"
    }
   ],
   "source": [
    "import matplotlib.pyplot as plt\n",
    "def plot_acc_loss(results, epochs):\n",
    " acc = results.history['accuracy']\n",
    " loss = results.history['loss']\n",
    " val_acc = results.history['val_accuracy']\n",
    " val_loss = results.history['val_loss']\n",
    " plt.figure(figsize=(15, 5))\n",
    " plt.subplot(121)\n",
    " plt.plot(range(1,epochs), acc[1:], label='Train_acc')\n",
    " plt.plot(range(1,epochs), val_acc[1:], label='Valid_acc')\n",
    " plt.title('Accuracy over' + str(epochs) + 'Epochs', size=15)\n",
    " plt.legend()\n",
    " plt.grid(True)\n",
    " plt.subplot(122)\n",
    " plt.plot(range(1,epochs), loss[1:], label='Train_loss')\n",
    " plt.plot(range(1,epochs), val_loss[1:], label='Valid_loss')\n",
    " plt.title('Loss over' + str(epochs) +  'Epochs', size=15)\n",
    " plt.legend()\n",
    " plt.grid(True)\n",
    " plt.show()\n",
    " \n",
    "plot_acc_loss(results, 50)"
   ]
  },
  {
   "cell_type": "markdown",
   "metadata": {},
   "source": [
    "# Let's create the Confusion Matrix"
   ]
  },
  {
   "cell_type": "code",
   "execution_count": 65,
   "metadata": {},
   "outputs": [],
   "source": [
    "from keras.models import load_model\n",
    "from keras.preprocessing import image\n",
    "import numpy as np\n",
    "import os\n",
    "from keras.preprocessing.image import img_to_array, load_img"
   ]
  },
  {
   "cell_type": "code",
   "execution_count": 66,
   "metadata": {},
   "outputs": [],
   "source": [
    "# images folder\n",
    "covid_path = 'C:\\\\Users\\\\samfr\\\\PycharmProjects\\\\upg\\\\datasets\\\\valid\\\\COVID-19'\n",
    "normal_path = 'C:\\\\Users\\\\samfr\\\\PycharmProjects\\\\upg\\\\datasets\\\\valid\\\\NORMAL'\n",
    "pneumonia_path = 'C:\\\\Users\\\\samfr\\\\PycharmProjects\\\\upg\\\\datasets\\\\valid\\\\Viral_Pneumonia'\n",
    "\n",
    "# path to model\n",
    "model_path = '/Users/samfr/PycharmProjects/upg/datasets/three_classification_problem_model_solved_InceptionV3.h5'\n",
    "\n",
    "# dimensions of images\n",
    "img_width, img_height = 224, 224\n",
    "\n",
    "# load the trained model\n",
    "model_loaded = load_model(model_path)\n",
    "model_loaded.compile(optimizer=Adam(learning_rate=0.0001), loss='categorical_crossentropy', metrics=['accuracy'])"
   ]
  },
  {
   "cell_type": "code",
   "execution_count": 79,
   "metadata": {},
   "outputs": [
    {
     "data": {
      "text/plain": [
       "180"
      ]
     },
     "execution_count": 79,
     "metadata": {},
     "output_type": "execute_result"
    }
   ],
   "source": [
    "#######################################################\n",
    "## COVID-19\n",
    "# load all images into a list\n",
    "images_covid = []\n",
    "for img in os.listdir(covid_path):\n",
    "    img = os.path.join(covid_path, img)\n",
    "    img = image.load_img(img, target_size=(img_width, img_height))\n",
    "    img = image.img_to_array(img)\n",
    "    img = np.expand_dims(img, axis=0)\n",
    "    images_covid.append(img)\n",
    "    \n",
    "    # stack up images list to pass for prediction\n",
    "images_covid = np.vstack(images_covid)\n",
    "covid_pred = model_loaded.predict(images_covid, batch_size=10)\n",
    "covid_pred = np.argmax(covid_pred,axis=1)\n",
    "covid_len = (len(list(covid_pred)))\n",
    "covid_len"
   ]
  },
  {
   "cell_type": "code",
   "execution_count": 80,
   "metadata": {},
   "outputs": [
    {
     "data": {
      "text/plain": [
       "201"
      ]
     },
     "execution_count": 80,
     "metadata": {},
     "output_type": "execute_result"
    }
   ],
   "source": [
    "##########################################################\n",
    "##  NORMAL\n",
    "# load all images into a list\n",
    "images_normal = []\n",
    "for img in os.listdir(normal_path):\n",
    "    img = os.path.join(normal_path, img)\n",
    "    img = image.load_img(img, target_size=(img_width, img_height))\n",
    "    img = image.img_to_array(img)\n",
    "    img = np.expand_dims(img, axis=0)\n",
    "    images_normal.append(img)\n",
    "    \n",
    "    # stack up images list to pass for prediction\n",
    "images_normal = np.vstack(images_normal)\n",
    "normal_pred = model_loaded.predict(images_normal, batch_size=10)\n",
    "normal_pred = np.argmax(normal_pred,axis=1)\n",
    "normal_len = (len(list(normal_pred)))\n",
    "normal_len"
   ]
  },
  {
   "cell_type": "code",
   "execution_count": 81,
   "metadata": {},
   "outputs": [
    {
     "data": {
      "text/plain": [
       "202"
      ]
     },
     "execution_count": 81,
     "metadata": {},
     "output_type": "execute_result"
    }
   ],
   "source": [
    "############################################################\n",
    "## Pneumonia\n",
    "# load all images into a list\n",
    "images_pneumonia = []\n",
    "for img in os.listdir(pneumonia_path):\n",
    "    img = os.path.join(pneumonia_path, img)\n",
    "    img = image.load_img(img, target_size=(img_width, img_height))\n",
    "    img = image.img_to_array(img)\n",
    "    img = np.expand_dims(img, axis=0)\n",
    "    images_pneumonia.append(img)\n",
    "    \n",
    "    # stack up images list to pass for prediction\n",
    "images_pneumonia = np.vstack(images_pneumonia)\n",
    "pneumonia_pred = model_loaded.predict(images_pneumonia, batch_size=10)\n",
    "pneumonia_pred = np.argmax(pneumonia_pred,axis=1)\n",
    "pneumonia_len = (len(list(pneumonia_pred)))\n",
    "pneumonia_len"
   ]
  },
  {
   "cell_type": "code",
   "execution_count": 82,
   "metadata": {},
   "outputs": [],
   "source": [
    "covid_true = np.zeros((covid_len,), dtype=int)\n",
    "normal_true = np.ones((normal_len,), dtype=int)\n",
    "pneumonia_true = 2*np.ones((pneumonia_len,), dtype=int)"
   ]
  },
  {
   "cell_type": "code",
   "execution_count": 83,
   "metadata": {},
   "outputs": [
    {
     "data": {
      "text/plain": [
       "numpy.ndarray"
      ]
     },
     "execution_count": 83,
     "metadata": {},
     "output_type": "execute_result"
    }
   ],
   "source": [
    "type(pneumonia_true)"
   ]
  },
  {
   "cell_type": "code",
   "execution_count": 84,
   "metadata": {},
   "outputs": [
    {
     "data": {
      "text/plain": [
       "numpy.ndarray"
      ]
     },
     "execution_count": 84,
     "metadata": {},
     "output_type": "execute_result"
    }
   ],
   "source": [
    "type(pneumonia_pred)"
   ]
  },
  {
   "cell_type": "code",
   "execution_count": 85,
   "metadata": {},
   "outputs": [],
   "source": [
    "pred_concat = np.concatenate((covid_pred, normal_pred,pneumonia_pred), axis=0)"
   ]
  },
  {
   "cell_type": "code",
   "execution_count": 86,
   "metadata": {},
   "outputs": [],
   "source": [
    "true_concat = np.concatenate((covid_true, normal_true,pneumonia_true), axis=0)"
   ]
  },
  {
   "cell_type": "code",
   "execution_count": 87,
   "metadata": {},
   "outputs": [
    {
     "name": "stdout",
     "output_type": "stream",
     "text": [
      "Classification Report\n",
      "                 precision    recall  f1-score   support\n",
      "\n",
      "       COVID-19       0.90      0.94      0.92       180\n",
      "         NORMAL       0.78      0.95      0.86       201\n",
      "Viral_Pneumonia       0.95      0.71      0.82       202\n",
      "\n",
      "       accuracy                           0.86       583\n",
      "      macro avg       0.88      0.87      0.86       583\n",
      "   weighted avg       0.88      0.86      0.86       583\n",
      "\n"
     ]
    }
   ],
   "source": [
    "import sklearn.metrics as metrics\n",
    "\n",
    "confusion_matrix(true_concat, pred_concat)\n",
    "print('Classification Report')\n",
    "target_names = ['COVID-19','NORMAL','Viral_Pneumonia']\n",
    "print(metrics.classification_report(true_concat, pred_concat, target_names=target_names))"
   ]
  },
  {
   "cell_type": "markdown",
   "metadata": {},
   "source": [
    "## Let's plot ROC & AUC"
   ]
  },
  {
   "cell_type": "code",
   "execution_count": 88,
   "metadata": {},
   "outputs": [],
   "source": [
    "from sklearn.preprocessing import LabelBinarizer\n",
    "from sklearn.metrics import roc_curve\n",
    "from sklearn.metrics import auc\n",
    "from sklearn.metrics import roc_auc_score\n",
    "\n",
    "\n",
    "all_labels = ['COVID-19','NORMAL','Viral_Pneumonia']\n",
    "\n",
    "y_test = true_concat\n",
    "y_pred = pred_concat"
   ]
  },
  {
   "cell_type": "code",
   "execution_count": 89,
   "metadata": {},
   "outputs": [
    {
     "data": {
      "text/plain": [
       "0.8997211337532308"
      ]
     },
     "execution_count": 89,
     "metadata": {},
     "output_type": "execute_result"
    },
    {
     "data": {
      "image/png": "[encoded data removed]",
      "text/plain": [
       "<Figure size 864x576 with 1 Axes>"
      ]
     },
     "metadata": {
      "needs_background": "light"
     },
     "output_type": "display_data"
    }
   ],
   "source": [
    "# set plot figure size\n",
    "fig, c_ax = plt.subplots(1,1, figsize = (12, 8))\n",
    "\n",
    "def multiclass_roc_auc_score(y_test, y_pred, average=\"macro\"):\n",
    "    lb = LabelBinarizer()\n",
    "    lb.fit(y_test)\n",
    "    y_test = lb.transform(y_test)\n",
    "    y_pred = lb.transform(y_pred)\n",
    "\n",
    "    for (idx, c_label) in enumerate(all_labels): # all_labels: no of the labels, for ex. ['cat', 'dog', 'rat']\n",
    "        fpr, tpr, thresholds = roc_curve(y_test[:,idx].astype(int), y_pred[:,idx])\n",
    "        c_ax.plot(fpr, tpr, label = '%s (AUC:%0.2f)'  % (c_label, auc(fpr, tpr)))\n",
    "    c_ax.plot(fpr, fpr, 'b-', label = 'Random Guessing')\n",
    "    return roc_auc_score(y_test, y_pred, average=average)\n",
    "\n",
    "# calling\n",
    "#true_concat.reset() # resetting generator\n",
    "# y_pred = model.predict_generator(y_test, verbose = True)\n",
    "# y_pred = np.argmax(y_pred, axis=1)\n",
    "multiclass_roc_auc_score(y_test, y_pred)"
   ]
  },
  {
   "cell_type": "code",
   "execution_count": null,
   "metadata": {},
   "outputs": [],
   "source": []
  },
  {
   "cell_type": "code",
   "execution_count": 90,
   "metadata": {},
   "outputs": [],
   "source": [
    "from sklearn.metrics import classification_report, confusion_matrix, accuracy_score\n",
    "#from plot_conf_matr import plot_confusion_matrix"
   ]
  },
  {
   "cell_type": "code",
   "execution_count": 93,
   "metadata": {},
   "outputs": [],
   "source": [
    "import numpy as np\n",
    "import matplotlib.pyplot as plt\n",
    "def plot_confusion_matrix(cm, classes, figname,normalize=False,title=\"Confusion matrix\",cmap=plt.cm.Blues):\n",
    "    import numpy as np\n",
    "    import matplotlib.pyplot as plt\n",
    "    import itertools\n",
    "    if normalize:\n",
    "        cm = cm.astype(\"float\") / cm.sum(axis=1)[:, np.newaxis]\n",
    "        print(\"Normalized confusion matrix\")\n",
    "    else:\n",
    "        print(\"Confusion matrix\")\n",
    "    plt.figure(figsize=(5,5))\n",
    "    plt.imshow(cm, interpolation=\"nearest\", cmap=cmap)\n",
    "    plt.title(title)\n",
    "    #plt.colorbar()\n",
    "    tick_marks = np.arange(len(classes))\n",
    "    plt.xticks(tick_marks, classes, rotation=90)\n",
    "    plt.yticks(tick_marks, classes)\n",
    "    fmt = \".2f\" if normalize else \"d\"\n",
    "    thresh = cm.max() / 2.\n",
    "    for i, j in itertools.product(range(cm.shape[0]), range(cm.shape[1])):\n",
    "        \n",
    "        plt.text(j, i, format(cm[i, j], fmt),\n",
    "        horizontalalignment=\"center\",\n",
    "        color=\"white\" if cm[i, j] > thresh else \"black\")\n",
    "        plt.ylabel(\"True label\")\n",
    "        plt.xlabel(\"Predicted label\")\n",
    "        plt.tight_layout()\n",
    "        plt.savefig(figname)\n",
    "    \n"
   ]
  },
  {
   "cell_type": "code",
   "execution_count": 94,
   "metadata": {},
   "outputs": [
    {
     "name": "stdout",
     "output_type": "stream",
     "text": [
      "Confusion matrix\n"
     ]
    },
    {
     "data": {
      "image/png": "[encoded data removed]",
      "text/plain": [
       "<Figure size 360x360 with 1 Axes>"
      ]
     },
     "metadata": {
      "needs_background": "light"
     },
     "output_type": "display_data"
    }
   ],
   "source": [
    "cm = confusion_matrix(y_test, y_pred)\n",
    "plot_confusion_matrix(cm, classes = ['COVID-19','NORMAL','Viral_Pneumonia'], title='Confusion Matrix', normalize=False, figname = 'Confusion_matrix_concrete.jpg')"
   ]
  },
  {
   "cell_type": "code",
   "execution_count": null,
   "metadata": {},
   "outputs": [],
   "source": []
  },
  {
   "cell_type": "markdown",
   "metadata": {},
   "source": [
    "# Prediction\n",
    "\n",
    "Test Dataset has been kept untouched and used below to test model performance on unseen data"
   ]
  },
  {
   "cell_type": "markdown",
   "metadata": {},
   "source": [
    "## Covid-19 Prediction Accuracy"
   ]
  },
  {
   "cell_type": "code",
   "execution_count": 21,
   "metadata": {},
   "outputs": [],
   "source": [
    "from keras.models import load_model\n",
    "from keras.preprocessing import image\n",
    "import numpy as np\n",
    "import os"
   ]
  },
  {
   "cell_type": "code",
   "execution_count": 38,
   "metadata": {},
   "outputs": [],
   "source": [
    "# image folder\n",
    "covid_path = 'C:\\\\Users\\\\samfr\\\\PycharmProjects\\\\upg\\\\datasets\\\\test\\\\COVID-19'\n",
    "# path to model\n",
    "model_path = '/Users/samfr/PycharmProjects/upg/datasets/three_classification_problem_model_solved_InceptionV3.h5'\n",
    "\n",
    "# dimensions of images\n",
    "img_width, img_height = 224, 224\n",
    "\n",
    "# load the trained model\n",
    "model = load_model(model_path)\n",
    "model.compile(optimizer=Adam(learning_rate=0.0001), loss='categorical_crossentropy', metrics=['accuracy'])\n",
    "\n",
    "# load all images into a list\n",
    "images = []\n",
    "for img in os.listdir(covid_path):\n",
    "    img = os.path.join(covid_path, img)\n",
    "    img = image.load_img(img, target_size=(img_width, img_height))\n",
    "    img = image.img_to_array(img)\n",
    "    img = np.expand_dims(img, axis=0)\n",
    "    images.append(img)\n",
    "    "
   ]
  },
  {
   "cell_type": "code",
   "execution_count": 39,
   "metadata": {},
   "outputs": [
    {
     "name": "stdout",
     "output_type": "stream",
     "text": [
      "[0 0 0 1 1 0 0 0 0 0 0 1 0 0 0 0 1 0 0 0 0 0 0 0 0 0 0 0 0 1 0 0 0 0 0 0 0\n",
      " 0 0 0 0 0 0 0 0 0 0 0 0 0 0 0 0 0 0 1 0 2 2 0 0 0 0 0 0 0 0 0 0 0 0 0 0 0\n",
      " 0 0 0 0 0 0 0 0 0 0 0 0 0 0 0 0 0 0 0 0 1 0 2 0 0 0 0 0 0 0 0 0 1 0 0 0 0\n",
      " 0 0 0 0 0 0 0 0 0 0 0 0 1 0 0 0 0 0 0 0 0 0 0 1 0 0 0 0 0 0 0 0 0 0 0 0 0\n",
      " 0 0 1 0 0 0 0 0 1 1 0 1 0 0 0 0 0 0 0 0 0 2 0 0 0 0 0 0 0 0 0 0]\n"
     ]
    }
   ],
   "source": [
    "# stack up images list to pass for prediction\n",
    "images = np.vstack(images)\n",
    "classes = model.predict(images, batch_size=10)\n",
    "classes = np.argmax(classes,axis=1)\n",
    "print(classes)"
   ]
  },
  {
   "cell_type": "code",
   "execution_count": 40,
   "metadata": {},
   "outputs": [
    {
     "name": "stdout",
     "output_type": "stream",
     "text": [
      "[0, 0, 0, 1, 1, 0, 0, 0, 0, 0, 0, 1, 0, 0, 0, 0, 1, 0, 0, 0, 0, 0, 0, 0, 0, 0, 0, 0, 0, 1, 0, 0, 0, 0, 0, 0, 0, 0, 0, 0, 0, 0, 0, 0, 0, 0, 0, 0, 0, 0, 0, 0, 0, 0, 0, 1, 0, 2, 2, 0, 0, 0, 0, 0, 0, 0, 0, 0, 0, 0, 0, 0, 0, 0, 0, 0, 0, 0, 0, 0, 0, 0, 0, 0, 0, 0, 0, 0, 0, 0, 0, 0, 0, 0, 1, 0, 2, 0, 0, 0, 0, 0, 0, 0, 0, 0, 1, 0, 0, 0, 0, 0, 0, 0, 0, 0, 0, 0, 0, 0, 0, 0, 0, 1, 0, 0, 0, 0, 0, 0, 0, 0, 0, 0, 1, 0, 0, 0, 0, 0, 0, 0, 0, 0, 0, 0, 0, 0, 0, 0, 1, 0, 0, 0, 0, 0, 1, 1, 0, 1, 0, 0, 0, 0, 0, 0, 0, 0, 0, 2, 0, 0, 0, 0, 0, 0, 0, 0, 0, 0]\n"
     ]
    }
   ],
   "source": [
    "# Let's convert it to List\n",
    "pred_counter = list(classes)\n",
    "print(pred_counter)"
   ]
  },
  {
   "cell_type": "code",
   "execution_count": 41,
   "metadata": {},
   "outputs": [
    {
     "name": "stdout",
     "output_type": "stream",
     "text": [
      "90.0\n"
     ]
    }
   ],
   "source": [
    "# Let's check the accuracy od Covid-19\n",
    "\n",
    "from collections import Counter\n",
    "\n",
    "covid_occurance= Counter(pred_counter)[0]\n",
    "covid_pred_accuracy = (covid_occurance/len(pred_counter))*100\n",
    "\n",
    "print(covid_pred_accuracy)"
   ]
  },
  {
   "cell_type": "markdown",
   "metadata": {},
   "source": [
    "## Normal Prediction Accuracy"
   ]
  },
  {
   "cell_type": "code",
   "execution_count": 44,
   "metadata": {},
   "outputs": [
    {
     "name": "stdout",
     "output_type": "stream",
     "text": [
      "[1 1 2 1 1 1 1 1 1 1 1 1 1 1 1 1 1 1 1 1 1 1 1 1 1 1 1 1 1 1 1 1 1 1 1 1 1\n",
      " 1 1 1 1 1 1 1 1 1 1 1 1 1 1 1 1 1 1 1 1 1 1 1 1 1 1 1 1 2 1 1 1 1 1 1 1 1\n",
      " 1 1 1 1 1 1 1 1 1 1 1 1 1 1 1 2 0 1 1 1 1 0 1 1 1 1 1 1 1 1 1 1 1 1 1 1 1\n",
      " 1 1 1 0 1 1 1 1 1 1 1 1 1 1 1 1 1 1 1 1 1 1 1 1 1 1 1 1 1 0 1 1 1 1 1 1 1\n",
      " 1 1 1 1 1 1 1 1 1 1 1 1 1 1 1 1 1 1 1 1 1 1 1 1 1 1 1 1 1 1 1 1 1 1 1 1 2\n",
      " 2 2 2 2 2 2 2 2 2 2 2 2 2 2 1 2]\n"
     ]
    }
   ],
   "source": [
    "# image folder\n",
    "normal_path = 'C:\\\\Users\\\\samfr\\\\PycharmProjects\\\\upg\\\\datasets\\\\test\\\\NORMAL'\n",
    "# path to model\n",
    "model_path = '/Users/samfr/PycharmProjects/upg/datasets/three_classification_problem_model_solved_InceptionV3.h5'\n",
    "\n",
    "# dimensions of images\n",
    "img_width, img_height = 224, 224\n",
    "\n",
    "# load the trained model\n",
    "model = load_model(model_path)\n",
    "model.compile(optimizer=Adam(learning_rate=0.0001), loss='categorical_crossentropy', metrics=['accuracy'])\n",
    "\n",
    "# load all images into a list\n",
    "images = []\n",
    "for img in os.listdir(normal_path):\n",
    "    img = os.path.join(normal_path, img)\n",
    "    img = image.load_img(img, target_size=(img_width, img_height))\n",
    "    img = image.img_to_array(img)\n",
    "    img = np.expand_dims(img, axis=0)\n",
    "    images.append(img)\n",
    "    \n",
    "    # stack up images list to pass for prediction\n",
    "images = np.vstack(images)\n",
    "classes = model.predict(images, batch_size=10)\n",
    "classes = np.argmax(classes,axis=1)\n",
    "print(classes)"
   ]
  },
  {
   "cell_type": "code",
   "execution_count": 45,
   "metadata": {},
   "outputs": [
    {
     "name": "stdout",
     "output_type": "stream",
     "text": [
      "[1, 1, 2, 1, 1, 1, 1, 1, 1, 1, 1, 1, 1, 1, 1, 1, 1, 1, 1, 1, 1, 1, 1, 1, 1, 1, 1, 1, 1, 1, 1, 1, 1, 1, 1, 1, 1, 1, 1, 1, 1, 1, 1, 1, 1, 1, 1, 1, 1, 1, 1, 1, 1, 1, 1, 1, 1, 1, 1, 1, 1, 1, 1, 1, 1, 2, 1, 1, 1, 1, 1, 1, 1, 1, 1, 1, 1, 1, 1, 1, 1, 1, 1, 1, 1, 1, 1, 1, 1, 2, 0, 1, 1, 1, 1, 0, 1, 1, 1, 1, 1, 1, 1, 1, 1, 1, 1, 1, 1, 1, 1, 1, 1, 1, 0, 1, 1, 1, 1, 1, 1, 1, 1, 1, 1, 1, 1, 1, 1, 1, 1, 1, 1, 1, 1, 1, 1, 1, 1, 1, 0, 1, 1, 1, 1, 1, 1, 1, 1, 1, 1, 1, 1, 1, 1, 1, 1, 1, 1, 1, 1, 1, 1, 1, 1, 1, 1, 1, 1, 1, 1, 1, 1, 1, 1, 1, 1, 1, 1, 1, 1, 1, 1, 1, 2, 2, 2, 2, 2, 2, 2, 2, 2, 2, 2, 2, 2, 2, 2, 1, 2]\n"
     ]
    }
   ],
   "source": [
    "# Let's convert it to List\n",
    "pred_counter = list(classes)\n",
    "print(pred_counter)"
   ]
  },
  {
   "cell_type": "code",
   "execution_count": 46,
   "metadata": {},
   "outputs": [
    {
     "name": "stdout",
     "output_type": "stream",
     "text": [
      "88.55721393034825\n"
     ]
    }
   ],
   "source": [
    "# Let's check the accuracy of Normal patients\n",
    "\n",
    "from collections import Counter\n",
    "\n",
    "normal_occurance = Counter(pred_counter)[1]\n",
    "normal_pred_accuracy = (normal_occurance/len(pred_counter))*100\n",
    "\n",
    "print(normal_pred_accuracy)"
   ]
  },
  {
   "cell_type": "markdown",
   "metadata": {},
   "source": [
    "## Viral Pneumonia Prediction Accuracy"
   ]
  },
  {
   "cell_type": "code",
   "execution_count": 47,
   "metadata": {},
   "outputs": [
    {
     "name": "stdout",
     "output_type": "stream",
     "text": [
      "[1 2 1 1 2 2 2 0 2 2 2 2 2 2 0 1 2 1 2 1 2 1 2 1 1 2 1 1 1 1 1 2 2 2 2 2 1\n",
      " 2 2 1 1 0 2 2 2 2 2 2 1 2 2 0 2 2 1 2 0 1 2 2 2 2 2 1 2 2 2 1 2 2 2 1 1 2\n",
      " 2 2 2 2 2 2 2 1 1 2 2 1 2 1 2 1 2 2 1 2 1 1 2 2 2 2 2 2 2 2 1 2 2 1 2 1 1\n",
      " 2 2 2 2 2 1 2 2 2 1 2 2 2 2 1 2 2 2 2 2 1 1 2 2 2 1 2 0 0 1 1 2 1 1 1 1 1\n",
      " 2 1 2 1 2 2 2 2 2 1 1 1 1 1 2 2 2 2 1 2 2 0 2 2 2 2 1 1 1 2 2 2 2 2 2 2 1\n",
      " 1 1 2 2 1 2 2 2 2 1 2 1 1 1 2 2]\n"
     ]
    }
   ],
   "source": [
    "# image folder\n",
    "pneumonia_path = 'C:\\\\Users\\\\samfr\\\\PycharmProjects\\\\upg\\\\datasets\\\\test\\\\Viral_Pneumonia'\n",
    "# path to model\n",
    "model_path = '/Users/samfr/PycharmProjects/upg/datasets/three_classification_problem_model_solved_InceptionV3.h5'\n",
    "\n",
    "# dimensions of images\n",
    "img_width, img_height = 224, 224\n",
    "\n",
    "# load the trained model\n",
    "model = load_model(model_path)\n",
    "model.compile(optimizer=Adam(learning_rate=0.0001), loss='categorical_crossentropy', metrics=['accuracy'])\n",
    "\n",
    "# load all images into a list\n",
    "images = []\n",
    "for img in os.listdir(pneumonia_path):\n",
    "    img = os.path.join(pneumonia_path, img)\n",
    "    img = image.load_img(img, target_size=(img_width, img_height))\n",
    "    img = image.img_to_array(img)\n",
    "    img = np.expand_dims(img, axis=0)\n",
    "    images.append(img)\n",
    "    \n",
    "    # stack up images list to pass for prediction\n",
    "images = np.vstack(images)\n",
    "classes = model.predict(images, batch_size=10)\n",
    "classes = np.argmax(classes,axis=1)\n",
    "print(classes)"
   ]
  },
  {
   "cell_type": "code",
   "execution_count": 48,
   "metadata": {},
   "outputs": [
    {
     "name": "stdout",
     "output_type": "stream",
     "text": [
      "[1, 2, 1, 1, 2, 2, 2, 0, 2, 2, 2, 2, 2, 2, 0, 1, 2, 1, 2, 1, 2, 1, 2, 1, 1, 2, 1, 1, 1, 1, 1, 2, 2, 2, 2, 2, 1, 2, 2, 1, 1, 0, 2, 2, 2, 2, 2, 2, 1, 2, 2, 0, 2, 2, 1, 2, 0, 1, 2, 2, 2, 2, 2, 1, 2, 2, 2, 1, 2, 2, 2, 1, 1, 2, 2, 2, 2, 2, 2, 2, 2, 1, 1, 2, 2, 1, 2, 1, 2, 1, 2, 2, 1, 2, 1, 1, 2, 2, 2, 2, 2, 2, 2, 2, 1, 2, 2, 1, 2, 1, 1, 2, 2, 2, 2, 2, 1, 2, 2, 2, 1, 2, 2, 2, 2, 1, 2, 2, 2, 2, 2, 1, 1, 2, 2, 2, 1, 2, 0, 0, 1, 1, 2, 1, 1, 1, 1, 1, 2, 1, 2, 1, 2, 2, 2, 2, 2, 1, 1, 1, 1, 1, 2, 2, 2, 2, 1, 2, 2, 0, 2, 2, 2, 2, 1, 1, 1, 2, 2, 2, 2, 2, 2, 2, 1, 1, 1, 2, 2, 1, 2, 2, 2, 2, 1, 2, 1, 1, 1, 2, 2]\n"
     ]
    }
   ],
   "source": [
    "# Let's convert it to List\n",
    "pred_counter = list(classes)\n",
    "print(pred_counter)"
   ]
  },
  {
   "cell_type": "code",
   "execution_count": 57,
   "metadata": {},
   "outputs": [
    {
     "name": "stdout",
     "output_type": "stream",
     "text": [
      "62.189054726368155\n"
     ]
    }
   ],
   "source": [
    "# Let's check the accuracy of Viral Pneumonia\n",
    "\n",
    "from collections import Counter\n",
    "\n",
    "pneumonia_occurance = Counter(pred_counter)[2]\n",
    "pneumonia_pred_accuracy = (pneumonia_occurance/len(pred_counter))*100\n",
    "\n",
    "print(pneumonia_pred_accuracy)"
   ]
  },
  {
   "cell_type": "code",
   "execution_count": null,
   "metadata": {},
   "outputs": [],
   "source": []
  }
 ],
 "metadata": {
  "kernelspec": {
   "display_name": "Python 3",
   "language": "python",
   "name": "python3"
  },
  "language_info": {
   "codemirror_mode": {
    "name": "ipython",
    "version": 3
   },
   "file_extension": ".py",
   "mimetype": "text/x-python",
   "name": "python",
   "nbconvert_exporter": "python",
   "pygments_lexer": "ipython3",
   "version": "3.7.6"
  }
 },
 "nbformat": 4,
 "nbformat_minor": 4
}
